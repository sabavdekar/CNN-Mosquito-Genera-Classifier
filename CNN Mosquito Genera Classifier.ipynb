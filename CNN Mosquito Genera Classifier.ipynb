{
  "cells": [
    {
      "cell_type": "markdown",
      "metadata": {
        "id": "X_zd7MkffHqr"
      },
      "source": [
        "##Imported Python Libraries"
      ]
    },
    {
      "cell_type": "code",
      "execution_count": null,
      "metadata": {
        "id": "hu4p9_5shZpE"
      },
      "outputs": [],
      "source": [
        "import pandas as pd   # Great for tables (google spreadsheets, microsoft excel, csv). \n",
        "import numpy as np\n",
        "import matplotlib.pyplot as plt\n",
        "import seaborn as sns\n",
        "import string\n",
        "import os # Good for navigating your computer's files \n",
        "import sys\n",
        "from google.colab import drive\n",
        "import cv2\n",
        "import keras\n",
        "import tensorflow\n",
        "from skimage import io\n",
        "import os\n",
        "import glob\n",
        "import random\n",
        "from torchvision import transforms\n",
        "\n",
        "from sklearn.feature_extraction.text import CountVectorizer\n",
        "from sklearn.model_selection import train_test_split\n",
        "from sklearn.linear_model import LogisticRegression\n",
        "from sklearn.metrics import confusion_matrix, classification_report\n",
        "from sklearn.metrics import accuracy_score\n",
        "from PIL import Image\n",
        "from keras.utils import np_utils\n",
        "from google.colab.patches import cv2_imshow\n",
        "\n",
        "from requests import get\n",
        "\n",
        "import gzip\n",
        "from time import time\n",
        "\n",
        "import tensorflow as tf\n",
        "import keras\n",
        "import keras.layers as layers\n",
        "from keras.models import Sequential\n",
        "from keras.preprocessing.image import ImageDataGenerator\n",
        "from keras.utils.np_utils import to_categorical\n",
        "from keras.callbacks import TensorBoard\n",
        "\n",
        "from keras.layers import Dense, Activation, Dropout, Flatten, Conv2D, MaxPooling2D\n",
        "from tensorflow.keras.layers import BatchNormalization\n",
        "\n",
        "import os\n",
        "from keras.layers import Dense, Conv2D, MaxPool2D , Flatten\n",
        "\n",
        "import cv2\n",
        "\n",
        "from keras.preprocessing.image import ImageDataGenerator\n",
        "from keras import backend as K\n",
        "import keras\n",
        "from keras.models import Model,load_model\n",
        "from tensorflow.keras.optimizers import SGD\n",
        "from keras.callbacks import EarlyStopping,ModelCheckpoint\n",
        "from keras.layers import Input, Add, Dense, Activation, ZeroPadding2D, BatchNormalization, Flatten, Conv2D, AveragePooling2D, MaxPooling2D, GlobalMaxPooling2D,MaxPool2D\n",
        "from keras.preprocessing import image\n",
        "from keras.initializers import glorot_uniform"
      ]
    },
    {
      "cell_type": "markdown",
      "metadata": {
        "id": "HCYK0EwBqqgJ"
      },
      "source": [
        "##Data work"
      ]
    },
    {
      "cell_type": "code",
      "execution_count": null,
      "metadata": {
        "colab": {
          "base_uri": "https://localhost:8080/"
        },
        "id": "AjiWeiTuqn1U",
        "outputId": "9abf3058-afbc-47fc-e855-856b94d7b2d4"
      },
      "outputs": [
        {
          "output_type": "stream",
          "name": "stdout",
          "text": [
            "Mounted at /content/drive\n"
          ]
        }
      ],
      "source": [
        "drive.mount('/content/drive', force_remount=True)"
      ]
    },
    {
      "cell_type": "code",
      "execution_count": null,
      "metadata": {
        "id": "S1-i86GArpl7"
      },
      "outputs": [],
      "source": [
        "import os\n",
        "culexPath = '/content/drive/MyDrive/SEES 2022 /Datasets/Sorted Images/Culex Images'\n",
        "culex = os.listdir(culexPath)\n",
        "\n",
        "anophelesPath = '/content/drive/MyDrive/SEES 2022 /Datasets/Sorted Images/Anopheles Images'\n",
        "anopheles = os.listdir(anophelesPath)\n",
        "\n",
        "aedesPath = '/content/drive/MyDrive/SEES 2022 /Datasets/Sorted Images/Aedes Images'\n",
        "aedes = os.listdir(aedesPath)\n",
        "\n",
        "\n",
        "oLabels = []\n",
        "\n",
        "for i in range(0, 100):\n",
        "  oLabels.append('1')\n",
        "\n",
        "for i in range(0, 100):\n",
        "  oLabels.append('2')\n",
        "\n",
        "for i in range(0 ,100):\n",
        "  oLabels.append('3')\n",
        "\n",
        "main_dir = '/content/drive/MyDrive/SEES 2022 /Datasets/Sorted Images'"
      ]
    },
    {
      "cell_type": "markdown",
      "metadata": {
        "id": "T3I5ymB-3Etl"
      },
      "source": [
        "##Alexnet"
      ]
    },
    {
      "cell_type": "code",
      "execution_count": null,
      "metadata": {
        "id": "HvU9nHLAfa12"
      },
      "outputs": [],
      "source": [
        "X = []\n",
        "labels = oLabels\n",
        "i=0\n",
        "for img in culex[0:100]:\n",
        "  img = cv2.imread(main_dir + '/Culex Images' + '/' + img)\n",
        "  img = cv2.cvtColor(img, cv2.COLOR_BGR2RGB)\n",
        "  img_array = Image.fromarray(img, 'RGB')\n",
        "  # resize image to 227x227 which is the required input size of the Alexnet model\n",
        "  img_rs = img_array.resize((227,227))\n",
        "  # convert the image to array\n",
        "  img_rs = np.array(img_rs)\n",
        "  X.append(img_rs)\n",
        "  \n",
        "for img in anopheles[0:100]:\n",
        "  img = cv2.imread(main_dir + '/Anopheles Images' + '/' + img)\n",
        "  img = cv2.cvtColor(img, cv2.COLOR_BGR2RGB)\n",
        "  img_array = Image.fromarray(img, 'RGB')\n",
        "  # resize image to 227x227 which is the required input size of the Alexnet model\n",
        "  img_rs = img_array.resize((227,227))\n",
        "  # convert the image to array\n",
        "  img_rs = np.array(img_rs)\n",
        "  X.append(img_rs)\n",
        "\n",
        "for img in aedes[0:100]:\n",
        "  img = cv2.imread(main_dir + '/Aedes Images' + '/' + img)\n",
        "  img = cv2.cvtColor(img, cv2.COLOR_BGR2RGB)\n",
        "  img_array = Image.fromarray(img, 'RGB')\n",
        "  # resize image to 227x227 which is the required input size of the Alexnet model\n",
        "  img_rs = img_array.resize((227,227))\n",
        "  # convert the image to array\n",
        "  img_rs = np.array(img_rs)\n",
        "  X.append(img_rs)"
      ]
    },
    {
      "cell_type": "code",
      "execution_count": null,
      "metadata": {
        "id": "M4MCAxnnzcju",
        "colab": {
          "base_uri": "https://localhost:8080/"
        },
        "outputId": "e8f51ce1-42ae-4a90-dcac-f65bb488eb33"
      },
      "outputs": [
        {
          "output_type": "stream",
          "name": "stdout",
          "text": [
            "# of training images: 240\n",
            "# of validation images: 60\n",
            "(240, 227, 227, 3)\n"
          ]
        }
      ],
      "source": [
        "data = {}\n",
        "train = {}\n",
        "test = {}\n",
        "\n",
        "data['features'] = X\n",
        "data['labels'] = np.array(labels)\n",
        "data['features'] = np.array(data['features'])\n",
        "\n",
        "\n",
        "train['features'], test['features'], train['labels'], test['labels'] = train_test_split(data['features'], data['labels'], test_size=0.2, random_state=0)\n",
        "X_train, y_train = train['features'], to_categorical(train['labels'])\n",
        "X_test, y_test = test['features'], to_categorical(test['labels'])\n",
        "\n",
        "#Make data generators\n",
        "train_generator = ImageDataGenerator().flow(X_train, y_train, batch_size=30)\n",
        "test_generator = ImageDataGenerator().flow(X_test, y_test, batch_size=30)\n",
        "print('# of training images:', train['features'].shape[0])\n",
        "print('# of validation images:', test['features'].shape[0])\n",
        "print(X_train.shape)\n"
      ]
    },
    {
      "cell_type": "code",
      "source": [
        "print(y_train)\n"
      ],
      "metadata": {
        "id": "1Q-S_bq0zamt"
      },
      "execution_count": null,
      "outputs": []
    },
    {
      "cell_type": "code",
      "execution_count": null,
      "metadata": {
        "id": "RuYd34b6z0QG"
      },
      "outputs": [],
      "source": [
        "def AlexNet():\n",
        "  np.random.seed(1000)\n",
        "\n",
        "  #Instantiate an empty model\n",
        "  model = Sequential()\n",
        "\n",
        "  # 1st Convolutional Layer\n",
        "  model.add(Conv2D(filters=96, input_shape=(227,227,3), kernel_size=(11,11), strides=(4,4), padding='valid'))\n",
        "  model.add(Activation('relu'))\n",
        "  # Max Pooling\n",
        "  model.add(MaxPooling2D(pool_size=(2,2), strides=(2,2), padding='valid'))\n",
        "\n",
        "  # 2nd Convolutional Layer\n",
        "  model.add(Conv2D(filters=256, kernel_size=(11,11), strides=(1,1), padding='valid'))\n",
        "  model.add(Activation('relu'))\n",
        "  # Max Pooling\n",
        "  model.add(MaxPooling2D(pool_size=(2,2), strides=(2,2), padding='valid'))\n",
        "\n",
        "  # 3rd Convolutional Layer\n",
        "  model.add(Conv2D(filters=384, kernel_size=(3,3), strides=(1,1), padding='valid'))\n",
        "  model.add(Activation('relu'))\n",
        "\n",
        "  # 4th Convolutional Layer\n",
        "  model.add(Conv2D(filters=384, kernel_size=(3,3), strides=(1,1), padding='valid'))\n",
        "  model.add(Activation('relu'))\n",
        "\n",
        "  # 5th Convolutional Layer\n",
        "  model.add(Conv2D(filters=256, kernel_size=(3,3), strides=(1,1), padding='valid'))\n",
        "  model.add(Activation('relu'))\n",
        "  # Max Pooling\n",
        "  model.add(MaxPooling2D(pool_size=(2,2), strides=(2,2), padding='valid'))\n",
        "\n",
        "  # Passing it to a Fully Connected layer\n",
        "  model.add(Flatten())\n",
        "  # 1st Fully Connected Layer\n",
        "  model.add(Dense(4096, input_shape=(224*224*3,)))\n",
        "  model.add(Activation('relu'))\n",
        "  # Add Dropout to prevent overfitting\n",
        "  model.add(Dropout(0.4))\n",
        "\n",
        "  # 2nd Fully Connected Layer\n",
        "  model.add(Dense(4096))\n",
        "  model.add(Activation('relu'))\n",
        "  # Add Dropout\n",
        "  model.add(Dropout(0.4))\n",
        "\n",
        "  # 3rd Fully Connected Layer\n",
        "  model.add(Dense(1000))\n",
        "  model.add(Activation('relu'))\n",
        "  # Add Dropout\n",
        "  model.add(Dropout(0.4))\n",
        "\n",
        "  # Output Layer\n",
        "  model.add(Dense(4))\n",
        "  model.add(Activation('softmax'))\n",
        "\n",
        "  model.summary()\n",
        "\n",
        "  # Compile the model\n",
        "  model.compile(loss=keras.losses.categorical_crossentropy, optimizer='adam', metrics=['accuracy'])\n",
        "  return model\n"
      ]
    },
    {
      "cell_type": "code",
      "execution_count": null,
      "metadata": {
        "id": "oLCYVe88CCvq",
        "colab": {
          "base_uri": "https://localhost:8080/"
        },
        "outputId": "b872de0b-d12d-4ad2-a59e-737207c4e9fe"
      },
      "outputs": [
        {
          "output_type": "stream",
          "name": "stdout",
          "text": [
            "Model: \"sequential\"\n",
            "_________________________________________________________________\n",
            " Layer (type)                Output Shape              Param #   \n",
            "=================================================================\n",
            " conv2d (Conv2D)             (None, 55, 55, 96)        34944     \n",
            "                                                                 \n",
            " activation (Activation)     (None, 55, 55, 96)        0         \n",
            "                                                                 \n",
            " max_pooling2d (MaxPooling2D  (None, 27, 27, 96)       0         \n",
            " )                                                               \n",
            "                                                                 \n",
            " conv2d_1 (Conv2D)           (None, 17, 17, 256)       2973952   \n",
            "                                                                 \n",
            " activation_1 (Activation)   (None, 17, 17, 256)       0         \n",
            "                                                                 \n",
            " max_pooling2d_1 (MaxPooling  (None, 8, 8, 256)        0         \n",
            " 2D)                                                             \n",
            "                                                                 \n",
            " conv2d_2 (Conv2D)           (None, 6, 6, 384)         885120    \n",
            "                                                                 \n",
            " activation_2 (Activation)   (None, 6, 6, 384)         0         \n",
            "                                                                 \n",
            " conv2d_3 (Conv2D)           (None, 4, 4, 384)         1327488   \n",
            "                                                                 \n",
            " activation_3 (Activation)   (None, 4, 4, 384)         0         \n",
            "                                                                 \n",
            " conv2d_4 (Conv2D)           (None, 2, 2, 256)         884992    \n",
            "                                                                 \n",
            " activation_4 (Activation)   (None, 2, 2, 256)         0         \n",
            "                                                                 \n",
            " max_pooling2d_2 (MaxPooling  (None, 1, 1, 256)        0         \n",
            " 2D)                                                             \n",
            "                                                                 \n",
            " flatten (Flatten)           (None, 256)               0         \n",
            "                                                                 \n",
            " dense (Dense)               (None, 4096)              1052672   \n",
            "                                                                 \n",
            " activation_5 (Activation)   (None, 4096)              0         \n",
            "                                                                 \n",
            " dropout (Dropout)           (None, 4096)              0         \n",
            "                                                                 \n",
            " dense_1 (Dense)             (None, 4096)              16781312  \n",
            "                                                                 \n",
            " activation_6 (Activation)   (None, 4096)              0         \n",
            "                                                                 \n",
            " dropout_1 (Dropout)         (None, 4096)              0         \n",
            "                                                                 \n",
            " dense_2 (Dense)             (None, 1000)              4097000   \n",
            "                                                                 \n",
            " activation_7 (Activation)   (None, 1000)              0         \n",
            "                                                                 \n",
            " dropout_2 (Dropout)         (None, 1000)              0         \n",
            "                                                                 \n",
            " dense_3 (Dense)             (None, 4)                 4004      \n",
            "                                                                 \n",
            " activation_8 (Activation)   (None, 4)                 0         \n",
            "                                                                 \n",
            "=================================================================\n",
            "Total params: 28,041,484\n",
            "Trainable params: 28,041,484\n",
            "Non-trainable params: 0\n",
            "_________________________________________________________________\n"
          ]
        }
      ],
      "source": [
        "model = AlexNet()"
      ]
    },
    {
      "cell_type": "code",
      "source": [
        "model.fit(train_generator, validation_data = test_generator, epochs=50)"
      ],
      "metadata": {
        "colab": {
          "base_uri": "https://localhost:8080/"
        },
        "id": "k3HPi76Ki1Fn",
        "outputId": "ecffaf85-9a2c-4b92-de39-c56ea91d61bf"
      },
      "execution_count": null,
      "outputs": [
        {
          "output_type": "stream",
          "name": "stdout",
          "text": [
            "Epoch 1/50\n",
            "8/8 [==============================] - 3s 75ms/step - loss: 61.8658 - accuracy: 0.3333 - val_loss: 1.3484 - val_accuracy: 0.3333\n",
            "Epoch 2/50\n",
            "8/8 [==============================] - 0s 37ms/step - loss: 1.2163 - accuracy: 0.3333 - val_loss: 1.0505 - val_accuracy: 0.3167\n",
            "Epoch 3/50\n",
            "8/8 [==============================] - 0s 37ms/step - loss: 1.0533 - accuracy: 0.5042 - val_loss: 1.2541 - val_accuracy: 0.6000\n",
            "Epoch 4/50\n",
            "8/8 [==============================] - 0s 37ms/step - loss: 0.9223 - accuracy: 0.6375 - val_loss: 0.7972 - val_accuracy: 0.6333\n",
            "Epoch 5/50\n",
            "8/8 [==============================] - 0s 37ms/step - loss: 0.8119 - accuracy: 0.6125 - val_loss: 0.6727 - val_accuracy: 0.6167\n",
            "Epoch 6/50\n",
            "8/8 [==============================] - 0s 38ms/step - loss: 0.7440 - accuracy: 0.6667 - val_loss: 0.6925 - val_accuracy: 0.6333\n",
            "Epoch 7/50\n",
            "8/8 [==============================] - 0s 36ms/step - loss: 0.6645 - accuracy: 0.7125 - val_loss: 0.5642 - val_accuracy: 0.7500\n",
            "Epoch 8/50\n",
            "8/8 [==============================] - 0s 38ms/step - loss: 0.6274 - accuracy: 0.7583 - val_loss: 0.4935 - val_accuracy: 0.8000\n",
            "Epoch 9/50\n",
            "8/8 [==============================] - 0s 38ms/step - loss: 0.5387 - accuracy: 0.7458 - val_loss: 0.5419 - val_accuracy: 0.7333\n",
            "Epoch 10/50\n",
            "8/8 [==============================] - 0s 38ms/step - loss: 0.4511 - accuracy: 0.8250 - val_loss: 0.4127 - val_accuracy: 0.8333\n",
            "Epoch 11/50\n",
            "8/8 [==============================] - 0s 39ms/step - loss: 0.3582 - accuracy: 0.8625 - val_loss: 0.3700 - val_accuracy: 0.8667\n",
            "Epoch 12/50\n",
            "8/8 [==============================] - 0s 38ms/step - loss: 0.5200 - accuracy: 0.8792 - val_loss: 0.2823 - val_accuracy: 0.9000\n",
            "Epoch 13/50\n",
            "8/8 [==============================] - 0s 36ms/step - loss: 0.4407 - accuracy: 0.8583 - val_loss: 0.3469 - val_accuracy: 0.8833\n",
            "Epoch 14/50\n",
            "8/8 [==============================] - 0s 36ms/step - loss: 0.3555 - accuracy: 0.8875 - val_loss: 0.3269 - val_accuracy: 0.8833\n",
            "Epoch 15/50\n",
            "8/8 [==============================] - 0s 38ms/step - loss: 0.2649 - accuracy: 0.9208 - val_loss: 0.3223 - val_accuracy: 0.9000\n",
            "Epoch 16/50\n",
            "8/8 [==============================] - 0s 37ms/step - loss: 0.2244 - accuracy: 0.9458 - val_loss: 0.3317 - val_accuracy: 0.9000\n",
            "Epoch 17/50\n",
            "8/8 [==============================] - 0s 37ms/step - loss: 0.2342 - accuracy: 0.9417 - val_loss: 0.4578 - val_accuracy: 0.8500\n",
            "Epoch 18/50\n",
            "8/8 [==============================] - 0s 37ms/step - loss: 0.2058 - accuracy: 0.9167 - val_loss: 0.3689 - val_accuracy: 0.8833\n",
            "Epoch 19/50\n",
            "8/8 [==============================] - 0s 36ms/step - loss: 0.2126 - accuracy: 0.9417 - val_loss: 0.4051 - val_accuracy: 0.9333\n",
            "Epoch 20/50\n",
            "8/8 [==============================] - 0s 36ms/step - loss: 0.1431 - accuracy: 0.9583 - val_loss: 0.3748 - val_accuracy: 0.9000\n",
            "Epoch 21/50\n",
            "8/8 [==============================] - 0s 37ms/step - loss: 0.1767 - accuracy: 0.9625 - val_loss: 0.2912 - val_accuracy: 0.9167\n",
            "Epoch 22/50\n",
            "8/8 [==============================] - 0s 36ms/step - loss: 0.1681 - accuracy: 0.9542 - val_loss: 0.5743 - val_accuracy: 0.8833\n",
            "Epoch 23/50\n",
            "8/8 [==============================] - 0s 36ms/step - loss: 0.2034 - accuracy: 0.9458 - val_loss: 0.2521 - val_accuracy: 0.9333\n",
            "Epoch 24/50\n",
            "8/8 [==============================] - 0s 38ms/step - loss: 0.1316 - accuracy: 0.9583 - val_loss: 0.1830 - val_accuracy: 0.9333\n",
            "Epoch 25/50\n",
            "8/8 [==============================] - 0s 35ms/step - loss: 0.1214 - accuracy: 0.9625 - val_loss: 0.2153 - val_accuracy: 0.9333\n",
            "Epoch 26/50\n",
            "8/8 [==============================] - 0s 37ms/step - loss: 0.1705 - accuracy: 0.9500 - val_loss: 0.2012 - val_accuracy: 0.9667\n",
            "Epoch 27/50\n",
            "8/8 [==============================] - 0s 39ms/step - loss: 0.1344 - accuracy: 0.9667 - val_loss: 0.2048 - val_accuracy: 0.9333\n",
            "Epoch 28/50\n",
            "8/8 [==============================] - 0s 36ms/step - loss: 0.1540 - accuracy: 0.9667 - val_loss: 0.3324 - val_accuracy: 0.9167\n",
            "Epoch 29/50\n",
            "8/8 [==============================] - 0s 36ms/step - loss: 0.1137 - accuracy: 0.9667 - val_loss: 0.2287 - val_accuracy: 0.9500\n",
            "Epoch 30/50\n",
            "8/8 [==============================] - 0s 38ms/step - loss: 0.1171 - accuracy: 0.9708 - val_loss: 0.2896 - val_accuracy: 0.9333\n",
            "Epoch 31/50\n",
            "8/8 [==============================] - 0s 36ms/step - loss: 0.1144 - accuracy: 0.9667 - val_loss: 0.2973 - val_accuracy: 0.9167\n",
            "Epoch 32/50\n",
            "8/8 [==============================] - 0s 36ms/step - loss: 0.1051 - accuracy: 0.9708 - val_loss: 0.3116 - val_accuracy: 0.9167\n",
            "Epoch 33/50\n",
            "8/8 [==============================] - 0s 37ms/step - loss: 0.1175 - accuracy: 0.9708 - val_loss: 0.3826 - val_accuracy: 0.9333\n",
            "Epoch 34/50\n",
            "8/8 [==============================] - 0s 36ms/step - loss: 0.1061 - accuracy: 0.9708 - val_loss: 0.4021 - val_accuracy: 0.9000\n",
            "Epoch 35/50\n",
            "8/8 [==============================] - 0s 35ms/step - loss: 0.1599 - accuracy: 0.9542 - val_loss: 0.6380 - val_accuracy: 0.8167\n",
            "Epoch 36/50\n",
            "8/8 [==============================] - 0s 36ms/step - loss: 0.5169 - accuracy: 0.9083 - val_loss: 0.3350 - val_accuracy: 0.9500\n",
            "Epoch 37/50\n",
            "8/8 [==============================] - 0s 37ms/step - loss: 0.4177 - accuracy: 0.8917 - val_loss: 0.3087 - val_accuracy: 0.9167\n",
            "Epoch 38/50\n",
            "8/8 [==============================] - 0s 37ms/step - loss: 0.3033 - accuracy: 0.9042 - val_loss: 0.4426 - val_accuracy: 0.8667\n",
            "Epoch 39/50\n",
            "8/8 [==============================] - 0s 37ms/step - loss: 0.2545 - accuracy: 0.9167 - val_loss: 0.4564 - val_accuracy: 0.8667\n",
            "Epoch 40/50\n",
            "8/8 [==============================] - 0s 36ms/step - loss: 0.2014 - accuracy: 0.9417 - val_loss: 0.3727 - val_accuracy: 0.9000\n",
            "Epoch 41/50\n",
            "8/8 [==============================] - 0s 35ms/step - loss: 0.1605 - accuracy: 0.9500 - val_loss: 0.4945 - val_accuracy: 0.9000\n",
            "Epoch 42/50\n",
            "8/8 [==============================] - 0s 36ms/step - loss: 0.1393 - accuracy: 0.9667 - val_loss: 0.5766 - val_accuracy: 0.9000\n",
            "Epoch 43/50\n",
            "8/8 [==============================] - 0s 36ms/step - loss: 0.1322 - accuracy: 0.9708 - val_loss: 0.6159 - val_accuracy: 0.9000\n",
            "Epoch 44/50\n",
            "8/8 [==============================] - 0s 37ms/step - loss: 0.1301 - accuracy: 0.9667 - val_loss: 0.6498 - val_accuracy: 0.9000\n",
            "Epoch 45/50\n",
            "8/8 [==============================] - 0s 36ms/step - loss: 0.1212 - accuracy: 0.9667 - val_loss: 0.6633 - val_accuracy: 0.9000\n",
            "Epoch 46/50\n",
            "8/8 [==============================] - 0s 37ms/step - loss: 0.1625 - accuracy: 0.9542 - val_loss: 0.5823 - val_accuracy: 0.8833\n",
            "Epoch 47/50\n",
            "8/8 [==============================] - 0s 36ms/step - loss: 0.1754 - accuracy: 0.9583 - val_loss: 0.5143 - val_accuracy: 0.8833\n",
            "Epoch 48/50\n",
            "8/8 [==============================] - 0s 36ms/step - loss: 0.3369 - accuracy: 0.9167 - val_loss: 0.4251 - val_accuracy: 0.8833\n",
            "Epoch 49/50\n",
            "8/8 [==============================] - 0s 36ms/step - loss: 0.2318 - accuracy: 0.9250 - val_loss: 0.3316 - val_accuracy: 0.9167\n",
            "Epoch 50/50\n",
            "8/8 [==============================] - 0s 37ms/step - loss: 0.2264 - accuracy: 0.9292 - val_loss: 0.3894 - val_accuracy: 0.9167\n"
          ]
        },
        {
          "output_type": "execute_result",
          "data": {
            "text/plain": [
              "<keras.callbacks.History at 0x7f5cf0550790>"
            ]
          },
          "metadata": {},
          "execution_count": 8
        }
      ]
    },
    {
      "cell_type": "code",
      "execution_count": null,
      "metadata": {
        "id": "8g4t3XgoYBF7",
        "colab": {
          "base_uri": "https://localhost:8080/"
        },
        "outputId": "90fa21e4-9507-4771-d2ea-bf3a88b3e7e9"
      },
      "outputs": [
        {
          "output_type": "stream",
          "name": "stdout",
          "text": [
            "2/2 [==============================] - 0s 25ms/step - loss: 0.3894 - accuracy: 0.9167\n",
            "Test loss: 0.38943400979042053\n",
            "Test accuracy: 0.9166666865348816\n"
          ]
        }
      ],
      "source": [
        "score = model.evaluate(test_generator)\n",
        "print('Test loss:', score[0])\n",
        "print('Test accuracy:', score[1])"
      ]
    },
    {
      "cell_type": "code",
      "source": [
        "#Model Analysis\n",
        "\n",
        "#Graphing\n",
        "from sklearn.metrics import ConfusionMatrixDisplay\n",
        "from sklearn.metrics import confusion_matrix\n",
        "import matplotlib.pyplot as plt\n",
        "import numpy as np\n",
        "\n",
        "\n",
        "y_pred = model.predict(X_test)\n",
        "labels = [\"Culex\", \"Anopheles\", \"Aedes\"]\n",
        "\n",
        "y_pred = np.argmax(y_pred, axis=1)\n",
        "y_test = np.argmax(y_test, axis=1)\n",
        "cm = confusion_matrix(y_test, y_pred)\n",
        "\n",
        "disp = ConfusionMatrixDisplay(confusion_matrix=cm, display_labels=labels)\n",
        "\n",
        "disp.plot(cmap=plt.cm.Blues)\n",
        "plt.show()\n",
        "\n",
        "#Use model for test value\n",
        "img = aedes[1700] #Result should be aedes\n",
        "img = cv2.imread(main_dir + '/Aedes Images' + '/' + img)\n",
        "img = cv2.cvtColor(img, cv2.COLOR_BGR2RGB)\n",
        "img_array = Image.fromarray(img, 'RGB')\n",
        "# resize image to 227x227 which is the required input size of the Alexnet model\n",
        "img_rs = img_array.resize((227,227))\n",
        "img = np.array(img_rs)\n",
        "\n",
        "# convert the image to array\n",
        "img = np.expand_dims(img, axis=0)\n",
        "result = model.predict(img)\n",
        "result = np.argmax(result, axis=1)\n",
        "\n",
        "if (result == 1):\n",
        "  print('Projected Result: Culex')\n",
        "\n",
        "if(result == 2):\n",
        "  print('Projected Result: Anopheles')\n",
        "\n",
        "if(result ==  3):\n",
        "  print('Projected Result: Aedes')\n",
        "print('Actual Result: Aedes')\n",
        "#Show an image\n",
        "plt.imshow(img_rs, cmap=plt.cm.gray_r)\n"
      ],
      "metadata": {
        "colab": {
          "base_uri": "https://localhost:8080/",
          "height": 583
        },
        "id": "DSEyw3xPpNst",
        "outputId": "577d6d59-eb7f-4eaf-dd72-1ac8bfa5c79c"
      },
      "execution_count": null,
      "outputs": [
        {
          "output_type": "display_data",
          "data": {
            "text/plain": [
              "<Figure size 432x288 with 2 Axes>"
            ],
            "image/png": "[encoded data removed]"
          },
          "metadata": {
            "needs_background": "light"
          }
        },
        {
          "output_type": "stream",
          "name": "stdout",
          "text": [
            "Projected Result: Aedes\n",
            "Actual Result: Aedes\n"
          ]
        },
        {
          "output_type": "execute_result",
          "data": {
            "text/plain": [
              "<matplotlib.image.AxesImage at 0x7f5c94225550>"
            ]
          },
          "metadata": {},
          "execution_count": 10
        },
        {
          "output_type": "display_data",
          "data": {
            "text/plain": [
              "<Figure size 432x288 with 1 Axes>"
            ],
            "image/png": "[encoded data removed]"
          },
          "metadata": {
            "needs_background": "light"
          }
        }
      ]
    },
    {
      "cell_type": "markdown",
      "metadata": {
        "id": "EZdHwKffcjkh"
      },
      "source": [
        "##LeNet-5"
      ]
    },
    {
      "cell_type": "code",
      "source": [
        "X = []\n",
        "labels = oLabels\n",
        "i=0\n",
        "for img in culex[0:100]:\n",
        "  img = cv2.imread(main_dir + '/Culex Images' + '/' + img)\n",
        "  img = cv2.cvtColor(img, cv2.COLOR_BGR2RGB)\n",
        "  img_array = Image.fromarray(img, 'RGB')\n",
        "  # resize image to 227x227 which is the required input size of the Alexnet model\n",
        "  img_rs = img_array.resize((227,227))\n",
        "  # convert the image to array\n",
        "  img_rs = np.array(img_rs)\n",
        "  X.append(img_rs)\n",
        "  \n",
        "for img in anopheles[0:100]:\n",
        "  img = cv2.imread(main_dir + '/Anopheles Images' + '/' + img)\n",
        "  img = cv2.cvtColor(img, cv2.COLOR_BGR2RGB)\n",
        "  img_array = Image.fromarray(img, 'RGB')\n",
        "  # resize image to 227x227 which is the required input size of the Alexnet model\n",
        "  img_rs = img_array.resize((227,227))\n",
        "  # convert the image to array\n",
        "  img_rs = np.array(img_rs)\n",
        "  X.append(img_rs)\n",
        "\n",
        "for img in aedes[0:100]:\n",
        "  img = cv2.imread(main_dir + '/Aedes Images' + '/' + img)\n",
        "  img = cv2.cvtColor(img, cv2.COLOR_BGR2RGB)\n",
        "  img_array = Image.fromarray(img, 'RGB')\n",
        "  # resize image to 227x227 which is the required input size of the Alexnet model\n",
        "  img_rs = img_array.resize((227,227))\n",
        "  # convert the image to array\n",
        "  img_rs = np.array(img_rs)\n",
        "  X.append(img_rs)"
      ],
      "metadata": {
        "id": "OdCePM5JgZ8e"
      },
      "execution_count": null,
      "outputs": []
    },
    {
      "cell_type": "code",
      "source": [
        "data = {}\n",
        "train = {}\n",
        "test = {}\n",
        "\n",
        "data['features'] = X\n",
        "data['labels'] = np.array(labels)\n",
        "data['features'] = np.array(data['features'])\n",
        "\n",
        "\n",
        "train['features'], test['features'], train['labels'], test['labels'] = train_test_split(data['features'], data['labels'], test_size=0.2, random_state=0)\n",
        "X_train, y_train = train['features'], to_categorical(train['labels'])\n",
        "X_test, y_test = test['features'], to_categorical(test['labels'])\n",
        "\n",
        "#Make data generators\n",
        "train_generator = ImageDataGenerator().flow(X_train, y_train, batch_size=30)\n",
        "test_generator = ImageDataGenerator().flow(X_test, y_test, batch_size=30)\n",
        "print('# of training images:', train['features'].shape[0])\n",
        "print('# of validation images:', test['features'].shape[0])\n",
        "print(X_train.shape)"
      ],
      "metadata": {
        "id": "dA4PbamQgazq",
        "colab": {
          "base_uri": "https://localhost:8080/"
        },
        "outputId": "80ab906c-0176-496e-c6e0-b922a873f2ea"
      },
      "execution_count": null,
      "outputs": [
        {
          "output_type": "stream",
          "name": "stdout",
          "text": [
            "# of training images: 240\n",
            "# of validation images: 60\n",
            "(240, 227, 227, 3)\n"
          ]
        }
      ]
    },
    {
      "cell_type": "code",
      "execution_count": null,
      "metadata": {
        "id": "0ztG7RGXcoic"
      },
      "outputs": [],
      "source": [
        "def LeNet():\n",
        "  model = keras.Sequential()\n",
        "\n",
        "  model.add(layers.Conv2D(filters=6, kernel_size=(3, 3), activation='relu', input_shape=(227,227,3))) \n",
        "  model.add(layers.AveragePooling2D())\n",
        "\n",
        "  model.add(layers.Conv2D(filters=16, kernel_size=(3, 3), activation='relu'))\n",
        "  model.add(layers.AveragePooling2D())\n",
        "\n",
        "  model.add(layers.Flatten())\n",
        "\n",
        "  model.add(layers.Dense(units=120, activation='relu'))\n",
        "\n",
        "  model.add(layers.Dense(units=84, activation='relu'))\n",
        "\n",
        "  model.add(layers.Dense(units=4, activation = 'softmax'))\n",
        "  model.compile(loss=keras.losses.categorical_crossentropy, optimizer='adam', metrics=['accuracy'])\n",
        "\n",
        "  model.summary()\n",
        "  return model"
      ]
    },
    {
      "cell_type": "code",
      "execution_count": null,
      "metadata": {
        "id": "pLNViWnDc2rV",
        "colab": {
          "base_uri": "https://localhost:8080/"
        },
        "outputId": "308b2f08-6e47-40ae-f936-aefc036772a1"
      },
      "outputs": [
        {
          "output_type": "stream",
          "name": "stdout",
          "text": [
            "Model: \"sequential_1\"\n",
            "_________________________________________________________________\n",
            " Layer (type)                Output Shape              Param #   \n",
            "=================================================================\n",
            " conv2d_5 (Conv2D)           (None, 225, 225, 6)       168       \n",
            "                                                                 \n",
            " average_pooling2d (AverageP  (None, 112, 112, 6)      0         \n",
            " ooling2D)                                                       \n",
            "                                                                 \n",
            " conv2d_6 (Conv2D)           (None, 110, 110, 16)      880       \n",
            "                                                                 \n",
            " average_pooling2d_1 (Averag  (None, 55, 55, 16)       0         \n",
            " ePooling2D)                                                     \n",
            "                                                                 \n",
            " flatten_1 (Flatten)         (None, 48400)             0         \n",
            "                                                                 \n",
            " dense_4 (Dense)             (None, 120)               5808120   \n",
            "                                                                 \n",
            " dense_5 (Dense)             (None, 84)                10164     \n",
            "                                                                 \n",
            " dense_6 (Dense)             (None, 4)                 340       \n",
            "                                                                 \n",
            "=================================================================\n",
            "Total params: 5,819,672\n",
            "Trainable params: 5,819,672\n",
            "Non-trainable params: 0\n",
            "_________________________________________________________________\n"
          ]
        }
      ],
      "source": [
        "model = LeNet()"
      ]
    },
    {
      "cell_type": "code",
      "execution_count": null,
      "metadata": {
        "colab": {
          "base_uri": "https://localhost:8080/"
        },
        "id": "AHLNz9ukdAgN",
        "outputId": "b10a2501-b26d-403f-98d1-8577b7cdcad7"
      },
      "outputs": [
        {
          "output_type": "stream",
          "name": "stdout",
          "text": [
            "Epoch 1/50\n"
          ]
        },
        {
          "output_type": "stream",
          "name": "stderr",
          "text": [
            "/usr/local/lib/python3.7/dist-packages/ipykernel_launcher.py:1: UserWarning: `Model.fit_generator` is deprecated and will be removed in a future version. Please use `Model.fit`, which supports generators.\n",
            "  \"\"\"Entry point for launching an IPython kernel.\n"
          ]
        },
        {
          "output_type": "stream",
          "name": "stdout",
          "text": [
            "8/8 [==============================] - 1s 65ms/step - loss: 232.9875 - accuracy: 0.3583 - val_loss: 50.2064 - val_accuracy: 0.4333\n",
            "Epoch 2/50\n",
            "8/8 [==============================] - 0s 35ms/step - loss: 28.6930 - accuracy: 0.6417 - val_loss: 2.8781 - val_accuracy: 0.7500\n",
            "Epoch 3/50\n",
            "8/8 [==============================] - 0s 34ms/step - loss: 1.9480 - accuracy: 0.8458 - val_loss: 1.7063 - val_accuracy: 0.7833\n",
            "Epoch 4/50\n",
            "8/8 [==============================] - 0s 34ms/step - loss: 0.9289 - accuracy: 0.8333 - val_loss: 1.5769 - val_accuracy: 0.8333\n",
            "Epoch 5/50\n",
            "8/8 [==============================] - 0s 34ms/step - loss: 0.3005 - accuracy: 0.9208 - val_loss: 1.5472 - val_accuracy: 0.8667\n",
            "Epoch 6/50\n",
            "8/8 [==============================] - 0s 36ms/step - loss: 0.1771 - accuracy: 0.9583 - val_loss: 1.6613 - val_accuracy: 0.8500\n",
            "Epoch 7/50\n",
            "8/8 [==============================] - 0s 35ms/step - loss: 0.0802 - accuracy: 0.9833 - val_loss: 1.7457 - val_accuracy: 0.8667\n",
            "Epoch 8/50\n",
            "8/8 [==============================] - 0s 36ms/step - loss: 0.0900 - accuracy: 0.9792 - val_loss: 1.8231 - val_accuracy: 0.8667\n",
            "Epoch 9/50\n",
            "8/8 [==============================] - 0s 35ms/step - loss: 0.0454 - accuracy: 0.9833 - val_loss: 1.8755 - val_accuracy: 0.8500\n",
            "Epoch 10/50\n",
            "8/8 [==============================] - 0s 34ms/step - loss: 0.0317 - accuracy: 0.9917 - val_loss: 1.9172 - val_accuracy: 0.8500\n",
            "Epoch 11/50\n",
            "8/8 [==============================] - 0s 34ms/step - loss: 0.0471 - accuracy: 0.9917 - val_loss: 1.9649 - val_accuracy: 0.8500\n",
            "Epoch 12/50\n",
            "8/8 [==============================] - 0s 35ms/step - loss: 0.0547 - accuracy: 0.9917 - val_loss: 2.0409 - val_accuracy: 0.8167\n",
            "Epoch 13/50\n",
            "8/8 [==============================] - 0s 34ms/step - loss: 0.0258 - accuracy: 0.9958 - val_loss: 2.0680 - val_accuracy: 0.8500\n",
            "Epoch 14/50\n",
            "8/8 [==============================] - 0s 34ms/step - loss: 0.0657 - accuracy: 0.9958 - val_loss: 2.0911 - val_accuracy: 0.8500\n",
            "Epoch 15/50\n",
            "8/8 [==============================] - 0s 34ms/step - loss: 0.0203 - accuracy: 0.9958 - val_loss: 2.1177 - val_accuracy: 0.8333\n",
            "Epoch 16/50\n",
            "8/8 [==============================] - 0s 34ms/step - loss: 0.0210 - accuracy: 0.9958 - val_loss: 2.1778 - val_accuracy: 0.8167\n",
            "Epoch 17/50\n",
            "8/8 [==============================] - 0s 33ms/step - loss: 0.0217 - accuracy: 0.9958 - val_loss: 2.2265 - val_accuracy: 0.8333\n",
            "Epoch 18/50\n",
            "8/8 [==============================] - 0s 35ms/step - loss: 0.0631 - accuracy: 0.9958 - val_loss: 2.3515 - val_accuracy: 0.8333\n",
            "Epoch 19/50\n",
            "8/8 [==============================] - 0s 35ms/step - loss: 0.0310 - accuracy: 0.9917 - val_loss: 2.0999 - val_accuracy: 0.8333\n",
            "Epoch 20/50\n",
            "8/8 [==============================] - 0s 33ms/step - loss: 0.0714 - accuracy: 0.9917 - val_loss: 1.7819 - val_accuracy: 0.8333\n",
            "Epoch 21/50\n",
            "8/8 [==============================] - 0s 34ms/step - loss: 0.0323 - accuracy: 0.9958 - val_loss: 1.7080 - val_accuracy: 0.8667\n",
            "Epoch 22/50\n",
            "8/8 [==============================] - 0s 34ms/step - loss: 0.0472 - accuracy: 0.9958 - val_loss: 1.7425 - val_accuracy: 0.8500\n",
            "Epoch 23/50\n",
            "8/8 [==============================] - 0s 35ms/step - loss: 0.0373 - accuracy: 0.9917 - val_loss: 1.7655 - val_accuracy: 0.8500\n",
            "Epoch 24/50\n",
            "8/8 [==============================] - 0s 35ms/step - loss: 0.0192 - accuracy: 0.9958 - val_loss: 1.8211 - val_accuracy: 0.8333\n",
            "Epoch 25/50\n",
            "8/8 [==============================] - 0s 34ms/step - loss: 0.0204 - accuracy: 0.9917 - val_loss: 1.8831 - val_accuracy: 0.8333\n",
            "Epoch 26/50\n",
            "8/8 [==============================] - 0s 33ms/step - loss: 0.0240 - accuracy: 0.9958 - val_loss: 1.9183 - val_accuracy: 0.8333\n",
            "Epoch 27/50\n",
            "8/8 [==============================] - 0s 34ms/step - loss: 0.0251 - accuracy: 0.9958 - val_loss: 1.9355 - val_accuracy: 0.8333\n",
            "Epoch 28/50\n",
            "8/8 [==============================] - 0s 35ms/step - loss: 0.0389 - accuracy: 0.9917 - val_loss: 1.9819 - val_accuracy: 0.8333\n",
            "Epoch 29/50\n",
            "8/8 [==============================] - 0s 33ms/step - loss: 0.0342 - accuracy: 0.9917 - val_loss: 1.9648 - val_accuracy: 0.8333\n",
            "Epoch 30/50\n",
            "8/8 [==============================] - 0s 34ms/step - loss: 0.0215 - accuracy: 0.9958 - val_loss: 1.9875 - val_accuracy: 0.8333\n",
            "Epoch 31/50\n",
            "8/8 [==============================] - 0s 33ms/step - loss: 0.0429 - accuracy: 0.9917 - val_loss: 2.0265 - val_accuracy: 0.8333\n",
            "Epoch 32/50\n",
            "8/8 [==============================] - 0s 34ms/step - loss: 0.0316 - accuracy: 0.9958 - val_loss: 2.0196 - val_accuracy: 0.8333\n",
            "Epoch 33/50\n",
            "8/8 [==============================] - 0s 34ms/step - loss: 0.0137 - accuracy: 0.9958 - val_loss: 2.0295 - val_accuracy: 0.8333\n",
            "Epoch 34/50\n",
            "8/8 [==============================] - 0s 34ms/step - loss: 0.0142 - accuracy: 0.9958 - val_loss: 2.0552 - val_accuracy: 0.8500\n",
            "Epoch 35/50\n",
            "8/8 [==============================] - 0s 34ms/step - loss: 0.0207 - accuracy: 0.9917 - val_loss: 2.0995 - val_accuracy: 0.8333\n",
            "Epoch 36/50\n",
            "8/8 [==============================] - 0s 34ms/step - loss: 0.0178 - accuracy: 0.9917 - val_loss: 2.1249 - val_accuracy: 0.8333\n",
            "Epoch 37/50\n",
            "8/8 [==============================] - 0s 32ms/step - loss: 0.0137 - accuracy: 0.9958 - val_loss: 2.1191 - val_accuracy: 0.8333\n",
            "Epoch 38/50\n",
            "8/8 [==============================] - 0s 33ms/step - loss: 0.0162 - accuracy: 0.9958 - val_loss: 2.1465 - val_accuracy: 0.8333\n",
            "Epoch 39/50\n",
            "8/8 [==============================] - 0s 35ms/step - loss: 0.0210 - accuracy: 0.9958 - val_loss: 2.1283 - val_accuracy: 0.8333\n",
            "Epoch 40/50\n",
            "8/8 [==============================] - 0s 35ms/step - loss: 0.0159 - accuracy: 0.9958 - val_loss: 2.0952 - val_accuracy: 0.8500\n",
            "Epoch 41/50\n",
            "8/8 [==============================] - 0s 34ms/step - loss: 0.0119 - accuracy: 0.9917 - val_loss: 2.1451 - val_accuracy: 0.8333\n",
            "Epoch 42/50\n",
            "8/8 [==============================] - 0s 34ms/step - loss: 0.0147 - accuracy: 0.9958 - val_loss: 2.1937 - val_accuracy: 0.8500\n",
            "Epoch 43/50\n",
            "8/8 [==============================] - 0s 34ms/step - loss: 0.0163 - accuracy: 0.9917 - val_loss: 2.1764 - val_accuracy: 0.8333\n",
            "Epoch 44/50\n",
            "8/8 [==============================] - 0s 34ms/step - loss: 0.0379 - accuracy: 0.9958 - val_loss: 2.1016 - val_accuracy: 0.8500\n",
            "Epoch 45/50\n",
            "8/8 [==============================] - 0s 34ms/step - loss: 0.0167 - accuracy: 0.9958 - val_loss: 2.1220 - val_accuracy: 0.8500\n",
            "Epoch 46/50\n",
            "8/8 [==============================] - 0s 36ms/step - loss: 0.0201 - accuracy: 0.9958 - val_loss: 2.1276 - val_accuracy: 0.8500\n",
            "Epoch 47/50\n",
            "8/8 [==============================] - 0s 35ms/step - loss: 0.0345 - accuracy: 0.9917 - val_loss: 2.2019 - val_accuracy: 0.8500\n",
            "Epoch 48/50\n",
            "8/8 [==============================] - 0s 36ms/step - loss: 0.0185 - accuracy: 0.9958 - val_loss: 2.1956 - val_accuracy: 0.8500\n",
            "Epoch 49/50\n",
            "8/8 [==============================] - 0s 34ms/step - loss: 0.0210 - accuracy: 0.9958 - val_loss: 2.1739 - val_accuracy: 0.8500\n",
            "Epoch 50/50\n",
            "8/8 [==============================] - 0s 34ms/step - loss: 0.0078 - accuracy: 0.9958 - val_loss: 2.1776 - val_accuracy: 0.8500\n"
          ]
        },
        {
          "output_type": "execute_result",
          "data": {
            "text/plain": [
              "<keras.callbacks.History at 0x7f5c941e5690>"
            ]
          },
          "metadata": {},
          "execution_count": 15
        }
      ],
      "source": [
        "model.fit_generator(train_generator, validation_data=test_generator, epochs=50)"
      ]
    },
    {
      "cell_type": "code",
      "execution_count": null,
      "metadata": {
        "colab": {
          "base_uri": "https://localhost:8080/"
        },
        "id": "Xwx6lCC1dajN",
        "outputId": "2b36129a-2d1c-4a2e-e554-04079aee5ed1"
      },
      "outputs": [
        {
          "output_type": "stream",
          "name": "stdout",
          "text": [
            "2/2 [==============================] - 0s 22ms/step - loss: 2.1776 - accuracy: 0.8500\n",
            "Test loss: 2.177598237991333\n",
            "Test accuracy: 0.8500000238418579\n"
          ]
        }
      ],
      "source": [
        "score = model.evaluate(test_generator)\n",
        "print('Test loss:', score[0])\n",
        "print('Test accuracy:', score[1])"
      ]
    },
    {
      "cell_type": "code",
      "source": [
        "#Model Analysis\n",
        "\n",
        "#Graphing\n",
        "from sklearn.metrics import ConfusionMatrixDisplay\n",
        "from sklearn.metrics import confusion_matrix\n",
        "import matplotlib.pyplot as plt\n",
        "import numpy as np\n",
        "\n",
        "\n",
        "y_pred = model.predict(X_test)\n",
        "labels = [\"Culex\", \"Anopheles\", \"Aedes\"]\n",
        "\n",
        "y_pred = np.argmax(y_pred, axis=1)\n",
        "y_test = np.argmax(y_test, axis=1)\n",
        "cm = confusion_matrix(y_test, y_pred)\n",
        "\n",
        "disp = ConfusionMatrixDisplay(confusion_matrix=cm, display_labels=labels)\n",
        "\n",
        "disp.plot(cmap=plt.cm.Blues)\n",
        "plt.show()\n",
        "\n",
        "#Use model for test value\n",
        "img = aedes[1700] #Result should be aedes\n",
        "img = cv2.imread(main_dir + '/Aedes Images' + '/' + img)\n",
        "img = cv2.cvtColor(img, cv2.COLOR_BGR2RGB)\n",
        "img_array = Image.fromarray(img, 'RGB')\n",
        "# resize image to 227x227 which is the required input size of the Alexnet model\n",
        "img_rs = img_array.resize((227,227))\n",
        "img = np.array(img_rs)\n",
        "\n",
        "# convert the image to array\n",
        "img = np.expand_dims(img, axis=0)\n",
        "result = model.predict(img)\n",
        "result = np.argmax(result, axis=1)\n",
        "\n",
        "if (result == 1):\n",
        "  print('Projected Result: Culex')\n",
        "\n",
        "if(result == 2):\n",
        "  print('Projected Result: Anopheles')\n",
        "\n",
        "if(result ==  3):\n",
        "  print('Projected Result: Aedes')\n",
        "print('Actual Result: Aedes')\n",
        "\n",
        "#Show an image\n",
        "plt.imshow(img_rs, cmap=plt.cm.gray_r)"
      ],
      "metadata": {
        "id": "M_RWI9t2tBRb",
        "colab": {
          "base_uri": "https://localhost:8080/",
          "height": 587
        },
        "outputId": "44bea740-94d9-4c92-cfb5-274140ec9a1d"
      },
      "execution_count": null,
      "outputs": [
        {
          "output_type": "display_data",
          "data": {
            "text/plain": [
              "<Figure size 432x288 with 2 Axes>"
            ],
            "image/png": "[encoded data removed]"
          },
          "metadata": {
            "needs_background": "light"
          }
        },
        {
          "output_type": "stream",
          "name": "stdout",
          "text": [
            "Projected Result: Aedes\n",
            "Actual Result: Aedes\n"
          ]
        },
        {
          "output_type": "execute_result",
          "data": {
            "text/plain": [
              "<matplotlib.image.AxesImage at 0x7f5c7c6d7f90>"
            ]
          },
          "metadata": {},
          "execution_count": 17
        },
        {
          "output_type": "display_data",
          "data": {
            "text/plain": [
              "<Figure size 432x288 with 1 Axes>"
            ],
            "image/png": "[encoded data removed]"
          },
          "metadata": {
            "needs_background": "light"
          }
        }
      ]
    },
    {
      "cell_type": "markdown",
      "metadata": {
        "id": "WIkfbY50dddO"
      },
      "source": [
        "##VGG-16"
      ]
    },
    {
      "cell_type": "code",
      "execution_count": null,
      "metadata": {
        "id": "iWbzau6Cy5ht"
      },
      "outputs": [],
      "source": [
        "#Reshape Data\n",
        "X = []\n",
        "labels = oLabels\n",
        "i=0\n",
        "\n",
        "\n",
        "i=0\n",
        "for img in culex[0:100]:\n",
        "  img = cv2.imread(main_dir + '/Culex Images' + '/' + img)\n",
        "  img = cv2.cvtColor(img, cv2.COLOR_BGR2RGB)\n",
        "  img_array = Image.fromarray(img, 'RGB')\n",
        "  # resize image to 227x227 which is the required input size of the Alexnet model\n",
        "  img_rs = img_array.resize((224,224))\n",
        "  # convert the image to array\n",
        "  img_rs = np.array(img_rs)\n",
        "  X.append(img_rs)\n",
        "\n",
        "for img in anopheles[0:100]:\n",
        "  img = cv2.imread(main_dir + '/Anopheles Images' + '/' + img)\n",
        "  img = cv2.cvtColor(img, cv2.COLOR_BGR2RGB)\n",
        "  img_array = Image.fromarray(img, 'RGB')\n",
        "  # resize image to 227x227 which is the required input size of the Alexnet model\n",
        "  img_rs = img_array.resize((224,224))\n",
        "  # convert the image to array\n",
        "  img_rs = np.array(img_rs)\n",
        "  X.append(img_rs)\n",
        "\n",
        "for img in aedes[0:100]:\n",
        "  img = cv2.imread(main_dir + '/Aedes Images' + '/' + img)\n",
        "  img = cv2.cvtColor(img, cv2.COLOR_BGR2RGB)\n",
        "  img_array = Image.fromarray(img, 'RGB')\n",
        "  # resize image to 227x227 which is the required input size of the Alexnet model\n",
        "  img_rs = img_array.resize((224,224))\n",
        "  # convert the image to array\n",
        "  img_rs = np.array(img_rs)\n",
        "  X.append(img_rs)"
      ]
    },
    {
      "cell_type": "code",
      "execution_count": null,
      "metadata": {
        "id": "Fwyg9MZzzlaF",
        "colab": {
          "base_uri": "https://localhost:8080/"
        },
        "outputId": "3694c36a-3afa-4b61-dc33-051c6d5185d8"
      },
      "outputs": [
        {
          "output_type": "stream",
          "name": "stdout",
          "text": [
            "# of training images: 240\n",
            "# of validation images: 60\n",
            "(240, 224, 224, 3)\n"
          ]
        }
      ],
      "source": [
        "data = {}\n",
        "train = {}\n",
        "test = {}\n",
        "\n",
        "data['features'] = X\n",
        "data['labels'] = np.array(labels)\n",
        "data['features'] = np.array(data['features'])\n",
        "\n",
        "\n",
        "train['features'], test['features'], train['labels'], test['labels'] = train_test_split(data['features'], data['labels'], test_size=0.2, random_state=0)\n",
        "X_train, y_train = train['features'], to_categorical(train['labels'])\n",
        "X_test, y_test = test['features'], to_categorical(test['labels'])\n",
        "\n",
        "#Make data generators\n",
        "train_generator = ImageDataGenerator().flow(X_train, y_train, batch_size=30)\n",
        "test_generator = ImageDataGenerator().flow(X_test, y_test, batch_size=30)\n",
        "print('# of training images:', train['features'].shape[0])\n",
        "print('# of validation images:', test['features'].shape[0])\n",
        "print(X_train.shape)"
      ]
    },
    {
      "cell_type": "code",
      "execution_count": null,
      "metadata": {
        "id": "2iaiCxsUejEC"
      },
      "outputs": [],
      "source": [
        "def VGG16():\n",
        "  model = Sequential()\n",
        "  model.add(Conv2D(input_shape=(224,224,3),filters=64,kernel_size=(3,3),padding=\"same\", activation=\"relu\"))\n",
        "  model.add(Conv2D(filters=64,kernel_size=(3,3),padding=\"same\", activation=\"relu\"))\n",
        "  model.add(MaxPool2D(pool_size=(2,2),strides=(2,2)))\n",
        "  model.add(Conv2D(filters=128, kernel_size=(3,3), padding=\"same\", activation=\"relu\"))\n",
        "  model.add(Conv2D(filters=128, kernel_size=(3,3), padding=\"same\", activation=\"relu\"))\n",
        "  model.add(MaxPool2D(pool_size=(2,2),strides=(2,2)))\n",
        "  model.add(Conv2D(filters=256, kernel_size=(3,3), padding=\"same\", activation=\"relu\"))\n",
        "  model.add(Conv2D(filters=256, kernel_size=(3,3), padding=\"same\", activation=\"relu\"))\n",
        "  model.add(Conv2D(filters=256, kernel_size=(3,3), padding=\"same\", activation=\"relu\"))\n",
        "  model.add(MaxPool2D(pool_size=(2,2),strides=(2,2)))\n",
        "  model.add(Conv2D(filters=512, kernel_size=(3,3), padding=\"same\", activation=\"relu\"))\n",
        "  model.add(Conv2D(filters=512, kernel_size=(3,3), padding=\"same\", activation=\"relu\"))\n",
        "  model.add(Conv2D(filters=512, kernel_size=(3,3), padding=\"same\", activation=\"relu\"))\n",
        "  model.add(MaxPool2D(pool_size=(2,2),strides=(2,2)))\n",
        "  model.add(Conv2D(filters=512, kernel_size=(3,3), padding=\"same\", activation=\"relu\"))\n",
        "  model.add(Conv2D(filters=512, kernel_size=(3,3), padding=\"same\", activation=\"relu\"))\n",
        "  model.add(Conv2D(filters=512, kernel_size=(3,3), padding=\"same\", activation=\"relu\"))\n",
        "  model.add(MaxPool2D(pool_size=(2,2),strides=(2,2)))\n",
        "  model.add(Flatten())\n",
        "  model.add(Dense(units=4096,activation=\"relu\"))\n",
        "  model.add(Dense(units=4096,activation=\"relu\"))\n",
        "  model.add(Dense(units=4, activation=\"softmax\"))\n",
        "\n",
        "  from tensorflow.keras.optimizers import Adam\n",
        "  opt = Adam(learning_rate=0.001)\n",
        "  model.compile(optimizer=opt, loss=keras.losses.categorical_crossentropy, metrics=['accuracy'])\n",
        "  return model"
      ]
    },
    {
      "cell_type": "code",
      "execution_count": null,
      "metadata": {
        "id": "f3vtk2ogiPsA"
      },
      "outputs": [],
      "source": [
        "model = VGG16()"
      ]
    },
    {
      "cell_type": "code",
      "execution_count": null,
      "metadata": {
        "colab": {
          "base_uri": "https://localhost:8080/"
        },
        "id": "SV3ll_gNi_KY",
        "outputId": "3e116929-b6a7-4971-8695-4716421bb9f3"
      },
      "outputs": [
        {
          "output_type": "stream",
          "name": "stdout",
          "text": [
            "Epoch 1/50\n"
          ]
        },
        {
          "output_type": "stream",
          "name": "stderr",
          "text": [
            "/usr/local/lib/python3.7/dist-packages/ipykernel_launcher.py:1: UserWarning: `Model.fit_generator` is deprecated and will be removed in a future version. Please use `Model.fit`, which supports generators.\n",
            "  \"\"\"Entry point for launching an IPython kernel.\n"
          ]
        },
        {
          "output_type": "stream",
          "name": "stdout",
          "text": [
            "8/8 [==============================] - 5s 288ms/step - loss: 995.5944 - accuracy: 0.3042 - val_loss: 1.1190 - val_accuracy: 0.3333\n",
            "Epoch 2/50\n",
            "8/8 [==============================] - 2s 247ms/step - loss: 1.1624 - accuracy: 0.2875 - val_loss: 1.1319 - val_accuracy: 0.3833\n",
            "Epoch 3/50\n",
            "8/8 [==============================] - 2s 247ms/step - loss: 1.0642 - accuracy: 0.3875 - val_loss: 0.9572 - val_accuracy: 0.5167\n",
            "Epoch 4/50\n",
            "8/8 [==============================] - 2s 249ms/step - loss: 0.9299 - accuracy: 0.5917 - val_loss: 0.9300 - val_accuracy: 0.5500\n",
            "Epoch 5/50\n",
            "8/8 [==============================] - 2s 248ms/step - loss: 0.8565 - accuracy: 0.5875 - val_loss: 0.8369 - val_accuracy: 0.5667\n",
            "Epoch 6/50\n",
            "8/8 [==============================] - 2s 248ms/step - loss: 0.8056 - accuracy: 0.6000 - val_loss: 0.9631 - val_accuracy: 0.4833\n",
            "Epoch 7/50\n",
            "8/8 [==============================] - 2s 248ms/step - loss: 0.7875 - accuracy: 0.5708 - val_loss: 0.7298 - val_accuracy: 0.6167\n",
            "Epoch 8/50\n",
            "8/8 [==============================] - 2s 247ms/step - loss: 0.7293 - accuracy: 0.6208 - val_loss: 0.6699 - val_accuracy: 0.6000\n",
            "Epoch 9/50\n",
            "8/8 [==============================] - 2s 248ms/step - loss: 0.7468 - accuracy: 0.5792 - val_loss: 0.6694 - val_accuracy: 0.6500\n",
            "Epoch 10/50\n",
            "8/8 [==============================] - 2s 249ms/step - loss: 0.7159 - accuracy: 0.6875 - val_loss: 0.7390 - val_accuracy: 0.6167\n",
            "Epoch 11/50\n",
            "8/8 [==============================] - 2s 248ms/step - loss: 0.7222 - accuracy: 0.6833 - val_loss: 0.8107 - val_accuracy: 0.5500\n",
            "Epoch 12/50\n",
            "8/8 [==============================] - 2s 249ms/step - loss: 0.7983 - accuracy: 0.5917 - val_loss: 0.6416 - val_accuracy: 0.7000\n",
            "Epoch 13/50\n",
            "8/8 [==============================] - 2s 248ms/step - loss: 0.6144 - accuracy: 0.7250 - val_loss: 0.5542 - val_accuracy: 0.7167\n",
            "Epoch 14/50\n",
            "8/8 [==============================] - 2s 248ms/step - loss: 0.5796 - accuracy: 0.7542 - val_loss: 0.5114 - val_accuracy: 0.7667\n",
            "Epoch 15/50\n",
            "8/8 [==============================] - 2s 247ms/step - loss: 0.5365 - accuracy: 0.8042 - val_loss: 0.4511 - val_accuracy: 0.8167\n",
            "Epoch 16/50\n",
            "8/8 [==============================] - 2s 249ms/step - loss: 0.4814 - accuracy: 0.8333 - val_loss: 0.5440 - val_accuracy: 0.7667\n",
            "Epoch 17/50\n",
            "8/8 [==============================] - 2s 250ms/step - loss: 0.3939 - accuracy: 0.8667 - val_loss: 0.5457 - val_accuracy: 0.8000\n",
            "Epoch 18/50\n",
            "8/8 [==============================] - 2s 248ms/step - loss: 0.4163 - accuracy: 0.8542 - val_loss: 0.4435 - val_accuracy: 0.8500\n",
            "Epoch 19/50\n",
            "8/8 [==============================] - 2s 247ms/step - loss: 0.3764 - accuracy: 0.8625 - val_loss: 0.4564 - val_accuracy: 0.8000\n",
            "Epoch 20/50\n",
            "8/8 [==============================] - 2s 248ms/step - loss: 0.2960 - accuracy: 0.9042 - val_loss: 0.3921 - val_accuracy: 0.8333\n",
            "Epoch 21/50\n",
            "8/8 [==============================] - 2s 249ms/step - loss: 0.3759 - accuracy: 0.8500 - val_loss: 0.7397 - val_accuracy: 0.7667\n",
            "Epoch 22/50\n",
            "8/8 [==============================] - 2s 247ms/step - loss: 0.4215 - accuracy: 0.8375 - val_loss: 0.4073 - val_accuracy: 0.8000\n",
            "Epoch 23/50\n",
            "8/8 [==============================] - 2s 247ms/step - loss: 0.2960 - accuracy: 0.8833 - val_loss: 0.4804 - val_accuracy: 0.7833\n",
            "Epoch 24/50\n",
            "8/8 [==============================] - 2s 248ms/step - loss: 0.2248 - accuracy: 0.8958 - val_loss: 0.5283 - val_accuracy: 0.7833\n",
            "Epoch 25/50\n",
            "8/8 [==============================] - 2s 249ms/step - loss: 0.2831 - accuracy: 0.9000 - val_loss: 0.4743 - val_accuracy: 0.8333\n",
            "Epoch 26/50\n",
            "8/8 [==============================] - 2s 249ms/step - loss: 0.3264 - accuracy: 0.8583 - val_loss: 0.4582 - val_accuracy: 0.8000\n",
            "Epoch 27/50\n",
            "8/8 [==============================] - 2s 248ms/step - loss: 0.2717 - accuracy: 0.8708 - val_loss: 0.3592 - val_accuracy: 0.8833\n",
            "Epoch 28/50\n",
            "8/8 [==============================] - 2s 248ms/step - loss: 0.3895 - accuracy: 0.9000 - val_loss: 0.4204 - val_accuracy: 0.8333\n",
            "Epoch 29/50\n",
            "8/8 [==============================] - 2s 248ms/step - loss: 0.2457 - accuracy: 0.9208 - val_loss: 0.3828 - val_accuracy: 0.8833\n",
            "Epoch 30/50\n",
            "8/8 [==============================] - 2s 249ms/step - loss: 0.1760 - accuracy: 0.9583 - val_loss: 0.4685 - val_accuracy: 0.8833\n",
            "Epoch 31/50\n",
            "8/8 [==============================] - 2s 249ms/step - loss: 0.0910 - accuracy: 0.9667 - val_loss: 0.2365 - val_accuracy: 0.9000\n",
            "Epoch 32/50\n",
            "8/8 [==============================] - 2s 248ms/step - loss: 0.1490 - accuracy: 0.9458 - val_loss: 0.4083 - val_accuracy: 0.8833\n",
            "Epoch 33/50\n",
            "8/8 [==============================] - 2s 248ms/step - loss: 0.2956 - accuracy: 0.9000 - val_loss: 0.4627 - val_accuracy: 0.8333\n",
            "Epoch 34/50\n",
            "8/8 [==============================] - 2s 247ms/step - loss: 0.1967 - accuracy: 0.9417 - val_loss: 0.2979 - val_accuracy: 0.9000\n",
            "Epoch 35/50\n",
            "8/8 [==============================] - 2s 248ms/step - loss: 0.1214 - accuracy: 0.9542 - val_loss: 0.3912 - val_accuracy: 0.8833\n",
            "Epoch 36/50\n",
            "8/8 [==============================] - 2s 247ms/step - loss: 0.0784 - accuracy: 0.9792 - val_loss: 0.5712 - val_accuracy: 0.8833\n",
            "Epoch 37/50\n",
            "8/8 [==============================] - 2s 248ms/step - loss: 0.1778 - accuracy: 0.9333 - val_loss: 0.5202 - val_accuracy: 0.8000\n",
            "Epoch 38/50\n",
            "8/8 [==============================] - 2s 249ms/step - loss: 0.2809 - accuracy: 0.9000 - val_loss: 0.5594 - val_accuracy: 0.8667\n",
            "Epoch 39/50\n",
            "8/8 [==============================] - 2s 248ms/step - loss: 0.2590 - accuracy: 0.8750 - val_loss: 0.3418 - val_accuracy: 0.8500\n",
            "Epoch 40/50\n",
            "8/8 [==============================] - 2s 249ms/step - loss: 0.1187 - accuracy: 0.9583 - val_loss: 0.2373 - val_accuracy: 0.8833\n",
            "Epoch 41/50\n",
            "8/8 [==============================] - 2s 249ms/step - loss: 0.1091 - accuracy: 0.9667 - val_loss: 0.6499 - val_accuracy: 0.7667\n",
            "Epoch 42/50\n",
            "8/8 [==============================] - 2s 250ms/step - loss: 0.0513 - accuracy: 0.9792 - val_loss: 0.4385 - val_accuracy: 0.8667\n",
            "Epoch 43/50\n",
            "8/8 [==============================] - 2s 248ms/step - loss: 0.0408 - accuracy: 0.9958 - val_loss: 0.4544 - val_accuracy: 0.8833\n",
            "Epoch 44/50\n",
            "8/8 [==============================] - 2s 247ms/step - loss: 0.0155 - accuracy: 1.0000 - val_loss: 0.6300 - val_accuracy: 0.8500\n",
            "Epoch 45/50\n",
            "8/8 [==============================] - 2s 249ms/step - loss: 0.0475 - accuracy: 0.9833 - val_loss: 0.5944 - val_accuracy: 0.8333\n",
            "Epoch 46/50\n",
            "8/8 [==============================] - 2s 249ms/step - loss: 0.0197 - accuracy: 0.9958 - val_loss: 0.9948 - val_accuracy: 0.8667\n",
            "Epoch 47/50\n",
            "8/8 [==============================] - 2s 248ms/step - loss: 0.0162 - accuracy: 0.9917 - val_loss: 0.8484 - val_accuracy: 0.8667\n",
            "Epoch 48/50\n",
            "8/8 [==============================] - 2s 248ms/step - loss: 0.0423 - accuracy: 0.9917 - val_loss: 0.3986 - val_accuracy: 0.9167\n",
            "Epoch 49/50\n",
            "8/8 [==============================] - 2s 250ms/step - loss: 0.0521 - accuracy: 0.9833 - val_loss: 0.4851 - val_accuracy: 0.8167\n",
            "Epoch 50/50\n",
            "8/8 [==============================] - 2s 248ms/step - loss: 0.0509 - accuracy: 0.9833 - val_loss: 0.6167 - val_accuracy: 0.8333\n"
          ]
        }
      ],
      "source": [
        "history = model.fit_generator(train_generator, validation_data=test_generator, epochs=50)"
      ]
    },
    {
      "cell_type": "code",
      "execution_count": null,
      "metadata": {
        "colab": {
          "base_uri": "https://localhost:8080/"
        },
        "id": "aDV72A4x3paX",
        "outputId": "29e7e49a-38c0-4eda-c7eb-d65a5bfcae69"
      },
      "outputs": [
        {
          "output_type": "stream",
          "name": "stdout",
          "text": [
            "2/2 [==============================] - 0s 81ms/step - loss: 0.6167 - accuracy: 0.8333\n",
            "Test loss: 0.6166850328445435\n",
            "Test accuracy: 0.8333333134651184\n"
          ]
        }
      ],
      "source": [
        "score = model.evaluate(test_generator)\n",
        "print('Test loss:', score[0])\n",
        "print('Test accuracy:', score[1])"
      ]
    },
    {
      "cell_type": "code",
      "source": [
        "#Model Analysis\n",
        "\n",
        "#Graphing\n",
        "from sklearn.metrics import ConfusionMatrixDisplay\n",
        "from sklearn.metrics import confusion_matrix\n",
        "import matplotlib.pyplot as plt\n",
        "import numpy as np\n",
        "\n",
        "\n",
        "y_pred = model.predict(X_test)\n",
        "labels = [\"Culex\", \"Anopheles\", \"Aedes\"]\n",
        "\n",
        "y_pred = np.argmax(y_pred, axis=1)\n",
        "y_test = np.argmax(y_test, axis=1)\n",
        "cm = confusion_matrix(y_test, y_pred)\n",
        "\n",
        "disp = ConfusionMatrixDisplay(confusion_matrix=cm, display_labels=labels)\n",
        "\n",
        "disp.plot(cmap=plt.cm.Blues)\n",
        "plt.show()\n",
        "\n",
        "#Use model for test value\n",
        "img = aedes[1700] #Result should be aedes\n",
        "img = cv2.imread(main_dir + '/Aedes Images' + '/' + img)\n",
        "img = cv2.cvtColor(img, cv2.COLOR_BGR2RGB)\n",
        "img_array = Image.fromarray(img, 'RGB')\n",
        "# resize image to 227x227 which is the required input size of the Alexnet model\n",
        "img_rs = img_array.resize((224,224))\n",
        "img = np.array(img_rs)\n",
        "\n",
        "# convert the image to array\n",
        "img = np.expand_dims(img, axis=0)\n",
        "result = model.predict(img)\n",
        "result = np.argmax(result, axis=1)\n",
        "\n",
        "if (result == 1):\n",
        "  print('Projected Result: Culex')\n",
        "\n",
        "if(result == 2):\n",
        "  print('Projected Result: Anopheles')\n",
        "\n",
        "if(result ==  3):\n",
        "  print('Projected Result: Aedes')\n",
        "print('Actual Result: Aedes')\n",
        "\n",
        "#Show an image\n",
        "plt.imshow(img_rs, cmap=plt.cm.gray_r)"
      ],
      "metadata": {
        "id": "ig3XAZwjtFEG",
        "colab": {
          "base_uri": "https://localhost:8080/"
        },
        "outputId": "9b64860e-173b-4a5c-925d-9433ef4c88b0"
      },
      "execution_count": null,
      "outputs": [
        {
          "output_type": "display_data",
          "data": {
            "text/plain": [
              "<Figure size 432x288 with 2 Axes>"
            ],
            "image/png": "[encoded data removed]"
          },
          "metadata": {
            "needs_background": "light"
          }
        },
        {
          "output_type": "stream",
          "name": "stdout",
          "text": [
            "Projected Result: Aedes\n",
            "Actual Result: Aedes\n"
          ]
        },
        {
          "output_type": "execute_result",
          "data": {
            "text/plain": [
              "<matplotlib.image.AxesImage at 0x7f5c7c2e0110>"
            ]
          },
          "metadata": {},
          "execution_count": 24
        },
        {
          "output_type": "display_data",
          "data": {
            "text/plain": [
              "<Figure size 432x288 with 1 Axes>"
            ],
            "image/png": "[encoded data removed]"
          },
          "metadata": {
            "needs_background": "light"
          }
        }
      ]
    },
    {
      "cell_type": "markdown",
      "metadata": {
        "id": "47wyScsTMXbz"
      },
      "source": [
        "##ResNet-50"
      ]
    },
    {
      "cell_type": "code",
      "execution_count": null,
      "metadata": {
        "id": "ZH1FtCeIanwM"
      },
      "outputs": [],
      "source": [
        "#Reshape Data\n",
        "X = []\n",
        "labels = oLabels\n",
        "i=0\n",
        "\n",
        "\n",
        "i=0\n",
        "for img in culex[0:100]:\n",
        "  img = cv2.imread(main_dir + '/Culex Images' + '/' + img)\n",
        "  img = cv2.cvtColor(img, cv2.COLOR_BGR2RGB)\n",
        "  img_array = Image.fromarray(img, 'RGB')\n",
        "  # resize image to 227x227 which is the required input size of the Alexnet model\n",
        "  img_rs = img_array.resize((32,32))\n",
        "  # convert the image to array\n",
        "  img_rs = np.array(img_rs)\n",
        "  X.append(img_rs)\n",
        "\n",
        "for img in anopheles[0:100]:\n",
        "  img = cv2.imread(main_dir + '/Anopheles Images' + '/' + img)\n",
        "  img = cv2.cvtColor(img, cv2.COLOR_BGR2RGB)\n",
        "  img_array = Image.fromarray(img, 'RGB')\n",
        "  # resize image to 227x227 which is the required input size of the Alexnet model\n",
        "  img_rs = img_array.resize((32,32))\n",
        "  # convert the image to array\n",
        "  img_rs = np.array(img_rs)\n",
        "  X.append(img_rs)\n",
        "\n",
        "for img in aedes[0:100]:\n",
        "  img = cv2.imread(main_dir + '/Aedes Images' + '/' + img)\n",
        "  img = cv2.cvtColor(img, cv2.COLOR_BGR2RGB)\n",
        "  img_array = Image.fromarray(img, 'RGB')\n",
        "  # resize image to 227x227 which is the required input size of the Alexnet model\n",
        "  img_rs = img_array.resize((32,32))\n",
        "  # convert the image to array\n",
        "  img_rs = np.array(img_rs)\n",
        "  X.append(img_rs)"
      ]
    },
    {
      "cell_type": "code",
      "execution_count": null,
      "metadata": {
        "id": "_nwzm2sJavQq",
        "colab": {
          "base_uri": "https://localhost:8080/"
        },
        "outputId": "af26ae39-b924-490e-dedb-5d90afa84e63"
      },
      "outputs": [
        {
          "output_type": "stream",
          "name": "stdout",
          "text": [
            "# of training images: 240\n",
            "# of validation images: 60\n",
            "(240, 32, 32, 3)\n"
          ]
        }
      ],
      "source": [
        "data = {}\n",
        "train = {}\n",
        "test = {}\n",
        "\n",
        "data['features'] = X\n",
        "data['labels'] = np.array(labels)\n",
        "data['features'] = np.array(data['features'])\n",
        "\n",
        "\n",
        "train['features'], test['features'], train['labels'], test['labels'] = train_test_split(data['features'], data['labels'], test_size=0.2, random_state=0)\n",
        "X_train, y_train = train['features'], to_categorical(train['labels'])\n",
        "X_test, y_test = test['features'], to_categorical(test['labels'])\n",
        "\n",
        "#Make data generators\n",
        "train_generator = ImageDataGenerator().flow(X_train, y_train, batch_size=30)\n",
        "test_generator = ImageDataGenerator().flow(X_test, y_test, batch_size=30)\n",
        "print('# of training images:', train['features'].shape[0])\n",
        "print('# of validation images:', test['features'].shape[0])\n",
        "print(X_train.shape)"
      ]
    },
    {
      "cell_type": "code",
      "execution_count": null,
      "metadata": {
        "id": "Jf_pQePPdcIB"
      },
      "outputs": [],
      "source": [
        "def identity_block(X, f, filters, stage, block):\n",
        "   \n",
        "    conv_name_base = 'res' + str(stage) + block + '_branch'\n",
        "    bn_name_base = 'bn' + str(stage) + block + '_branch'\n",
        "    F1, F2, F3 = filters\n",
        "\n",
        "    X_shortcut = X\n",
        "   \n",
        "    X = Conv2D(filters=F1, kernel_size=(1, 1), strides=(1, 1), padding='valid', name=conv_name_base + '2a', kernel_initializer=glorot_uniform(seed=0))(X)\n",
        "    X = BatchNormalization(axis=3, name=bn_name_base + '2a')(X)\n",
        "    X = Activation('relu')(X)\n",
        "\n",
        "    X = Conv2D(filters=F2, kernel_size=(f, f), strides=(1, 1), padding='same', name=conv_name_base + '2b', kernel_initializer=glorot_uniform(seed=0))(X)\n",
        "    X = BatchNormalization(axis=3, name=bn_name_base + '2b')(X)\n",
        "    X = Activation('relu')(X)\n",
        "\n",
        "    X = Conv2D(filters=F3, kernel_size=(1, 1), strides=(1, 1), padding='valid', name=conv_name_base + '2c', kernel_initializer=glorot_uniform(seed=0))(X)\n",
        "    X = BatchNormalization(axis=3, name=bn_name_base + '2c')(X)\n",
        "\n",
        "    X = Add()([X, X_shortcut])# SKIP Connection\n",
        "    X = Activation('relu')(X)\n",
        "\n",
        "    return X\n",
        "\n",
        "\n",
        "def convolutional_block(X, f, filters, stage, block, s=2):\n",
        "   \n",
        "    conv_name_base = 'res' + str(stage) + block + '_branch'\n",
        "    bn_name_base = 'bn' + str(stage) + block + '_branch'\n",
        "\n",
        "    F1, F2, F3 = filters\n",
        "\n",
        "    X_shortcut = X\n",
        "\n",
        "    X = Conv2D(filters=F1, kernel_size=(1, 1), strides=(s, s), padding='valid', name=conv_name_base + '2a', kernel_initializer=glorot_uniform(seed=0))(X)\n",
        "    X = BatchNormalization(axis=3, name=bn_name_base + '2a')(X)\n",
        "    X = Activation('relu')(X)\n",
        "\n",
        "    X = Conv2D(filters=F2, kernel_size=(f, f), strides=(1, 1), padding='same', name=conv_name_base + '2b', kernel_initializer=glorot_uniform(seed=0))(X)\n",
        "    X = BatchNormalization(axis=3, name=bn_name_base + '2b')(X)\n",
        "    X = Activation('relu')(X)\n",
        "\n",
        "    X = Conv2D(filters=F3, kernel_size=(1, 1), strides=(1, 1), padding='valid', name=conv_name_base + '2c', kernel_initializer=glorot_uniform(seed=0))(X)\n",
        "    X = BatchNormalization(axis=3, name=bn_name_base + '2c')(X)\n",
        "\n",
        "    X_shortcut = Conv2D(filters=F3, kernel_size=(1, 1), strides=(s, s), padding='valid', name=conv_name_base + '1', kernel_initializer=glorot_uniform(seed=0))(X_shortcut)\n",
        "    X_shortcut = BatchNormalization(axis=3, name=bn_name_base + '1')(X_shortcut)\n",
        "\n",
        "    X = Add()([X, X_shortcut])\n",
        "    X = Activation('relu')(X)\n",
        "\n",
        "    return X\n",
        "\n",
        "def ResNet50(input_shape=(32, 32, 3)):\n",
        "\n",
        "    X_input = Input(input_shape)\n",
        "\n",
        "    X = ZeroPadding2D((3, 3))(X_input)\n",
        "\n",
        "    X = Conv2D(64, (7, 7), strides=(2, 2), name='conv1', kernel_initializer=glorot_uniform(seed=0))(X)\n",
        "    X = BatchNormalization(axis=3, name='bn_conv1')(X)\n",
        "    X = Activation('relu')(X)\n",
        "    X = MaxPooling2D((3, 3), strides=(2, 2))(X)\n",
        "\n",
        "    X = convolutional_block(X, f=3, filters=[64, 64, 256], stage=2, block='a', s=1)\n",
        "    X = identity_block(X, 3, [64, 64, 256], stage=2, block='b')\n",
        "    X = identity_block(X, 3, [64, 64, 256], stage=2, block='c')\n",
        "\n",
        "\n",
        "    X = convolutional_block(X, f=3, filters=[128, 128, 512], stage=3, block='a', s=2)\n",
        "    X = identity_block(X, 3, [128, 128, 512], stage=3, block='b')\n",
        "    X = identity_block(X, 3, [128, 128, 512], stage=3, block='c')\n",
        "    X = identity_block(X, 3, [128, 128, 512], stage=3, block='d')\n",
        "\n",
        "    X = convolutional_block(X, f=3, filters=[256, 256, 1024], stage=4, block='a', s=2)\n",
        "    X = identity_block(X, 3, [256, 256, 1024], stage=4, block='b')\n",
        "    X = identity_block(X, 3, [256, 256, 1024], stage=4, block='c')\n",
        "    X = identity_block(X, 3, [256, 256, 1024], stage=4, block='d')\n",
        "    X = identity_block(X, 3, [256, 256, 1024], stage=4, block='e')\n",
        "    X = identity_block(X, 3, [256, 256, 1024], stage=4, block='f')\n",
        "\n",
        "    X = X = convolutional_block(X, f=3, filters=[512, 512, 2048], stage=5, block='a', s=2)\n",
        "    X = identity_block(X, 3, [512, 512, 2048], stage=5, block='b')\n",
        "    X = identity_block(X, 3, [512, 512, 2048], stage=5, block='c')\n",
        "\n",
        "    X = AveragePooling2D(pool_size=(2, 2), padding='same')(X)\n",
        "    \n",
        "    model = Model(inputs=X_input, outputs=X, name='ResNet50')\n",
        "\n",
        "    return model\n",
        "\n",
        "\n"
      ]
    },
    {
      "cell_type": "code",
      "source": [
        "base_model = ResNet50(input_shape=(32, 32, 3))\n",
        "\n",
        "headModel = base_model.output\n",
        "headModel = Flatten()(headModel)\n",
        "headModel=Dense(256, activation='relu', name='fc1',kernel_initializer=glorot_uniform(seed=0))(headModel)\n",
        "headModel=Dense(128, activation='relu', name='fc2',kernel_initializer=glorot_uniform(seed=0))(headModel)\n",
        "headModel = Dense(4,activation='sigmoid', name='fc3',kernel_initializer=glorot_uniform(seed=0))(headModel)\n",
        "\n",
        "model = Model(inputs=base_model.input, outputs=headModel)"
      ],
      "metadata": {
        "id": "PWZniJ-MhJl2"
      },
      "execution_count": null,
      "outputs": []
    },
    {
      "cell_type": "code",
      "source": [
        "model.compile(optimizer='SGD', loss=keras.losses.categorical_crossentropy, metrics=['accuracy'])"
      ],
      "metadata": {
        "id": "_qiUuFtWnN6N"
      },
      "execution_count": null,
      "outputs": []
    },
    {
      "cell_type": "code",
      "source": [
        "H = model.fit_generator(train_generator,validation_data=test_generator,epochs=50)"
      ],
      "metadata": {
        "id": "CWU4SGHBhuEv",
        "colab": {
          "base_uri": "https://localhost:8080/"
        },
        "outputId": "e9a2b420-295e-4679-ab79-79b1e0083837"
      },
      "execution_count": null,
      "outputs": [
        {
          "output_type": "stream",
          "name": "stdout",
          "text": [
            "Epoch 1/50\n"
          ]
        },
        {
          "output_type": "stream",
          "name": "stderr",
          "text": [
            "/usr/local/lib/python3.7/dist-packages/ipykernel_launcher.py:1: UserWarning: `Model.fit_generator` is deprecated and will be removed in a future version. Please use `Model.fit`, which supports generators.\n",
            "  \"\"\"Entry point for launching an IPython kernel.\n"
          ]
        },
        {
          "output_type": "stream",
          "name": "stdout",
          "text": [
            "8/8 [==============================] - 7s 213ms/step - loss: 1.3738 - accuracy: 0.4250 - val_loss: 3.7732 - val_accuracy: 0.3333\n",
            "Epoch 2/50\n",
            "8/8 [==============================] - 0s 48ms/step - loss: 0.9298 - accuracy: 0.6625 - val_loss: 1.2992 - val_accuracy: 0.3333\n",
            "Epoch 3/50\n",
            "8/8 [==============================] - 0s 46ms/step - loss: 0.7397 - accuracy: 0.7167 - val_loss: 1.3013 - val_accuracy: 0.3333\n",
            "Epoch 4/50\n",
            "8/8 [==============================] - 0s 47ms/step - loss: 0.8565 - accuracy: 0.6542 - val_loss: 1.2728 - val_accuracy: 0.3333\n",
            "Epoch 5/50\n",
            "8/8 [==============================] - 0s 46ms/step - loss: 0.6515 - accuracy: 0.7583 - val_loss: 1.1828 - val_accuracy: 0.3500\n",
            "Epoch 6/50\n",
            "8/8 [==============================] - 0s 47ms/step - loss: 0.4194 - accuracy: 0.8542 - val_loss: 1.2142 - val_accuracy: 0.3333\n",
            "Epoch 7/50\n",
            "8/8 [==============================] - 0s 46ms/step - loss: 0.3563 - accuracy: 0.8500 - val_loss: 1.2216 - val_accuracy: 0.4167\n",
            "Epoch 8/50\n",
            "8/8 [==============================] - 0s 47ms/step - loss: 0.2720 - accuracy: 0.8917 - val_loss: 1.1960 - val_accuracy: 0.3167\n",
            "Epoch 9/50\n",
            "8/8 [==============================] - 0s 50ms/step - loss: 0.4992 - accuracy: 0.8208 - val_loss: 1.2045 - val_accuracy: 0.2500\n",
            "Epoch 10/50\n",
            "8/8 [==============================] - 0s 47ms/step - loss: 0.4686 - accuracy: 0.8250 - val_loss: 1.1836 - val_accuracy: 0.2500\n",
            "Epoch 11/50\n",
            "8/8 [==============================] - 0s 47ms/step - loss: 0.2107 - accuracy: 0.9292 - val_loss: 1.1717 - val_accuracy: 0.2000\n",
            "Epoch 12/50\n",
            "8/8 [==============================] - 0s 46ms/step - loss: 0.2090 - accuracy: 0.9167 - val_loss: 1.1666 - val_accuracy: 0.2500\n",
            "Epoch 13/50\n",
            "8/8 [==============================] - 0s 47ms/step - loss: 0.1359 - accuracy: 0.9625 - val_loss: 1.1535 - val_accuracy: 0.2833\n",
            "Epoch 14/50\n",
            "8/8 [==============================] - 0s 47ms/step - loss: 0.1252 - accuracy: 0.9625 - val_loss: 1.1398 - val_accuracy: 0.3333\n",
            "Epoch 15/50\n",
            "8/8 [==============================] - 0s 48ms/step - loss: 0.1356 - accuracy: 0.9583 - val_loss: 1.1154 - val_accuracy: 0.3333\n",
            "Epoch 16/50\n",
            "8/8 [==============================] - 0s 48ms/step - loss: 0.1272 - accuracy: 0.9542 - val_loss: 1.1067 - val_accuracy: 0.3667\n",
            "Epoch 17/50\n",
            "8/8 [==============================] - 0s 47ms/step - loss: 0.0938 - accuracy: 0.9667 - val_loss: 1.0809 - val_accuracy: 0.3167\n",
            "Epoch 18/50\n",
            "8/8 [==============================] - 0s 47ms/step - loss: 0.1152 - accuracy: 0.9667 - val_loss: 1.0632 - val_accuracy: 0.4167\n",
            "Epoch 19/50\n",
            "8/8 [==============================] - 0s 48ms/step - loss: 0.0796 - accuracy: 0.9667 - val_loss: 1.0545 - val_accuracy: 0.3500\n",
            "Epoch 20/50\n",
            "8/8 [==============================] - 0s 45ms/step - loss: 0.0423 - accuracy: 0.9833 - val_loss: 1.0439 - val_accuracy: 0.3333\n",
            "Epoch 21/50\n",
            "8/8 [==============================] - 0s 46ms/step - loss: 0.0340 - accuracy: 0.9875 - val_loss: 1.0294 - val_accuracy: 0.5500\n",
            "Epoch 22/50\n",
            "8/8 [==============================] - 0s 47ms/step - loss: 0.0828 - accuracy: 0.9708 - val_loss: 1.0586 - val_accuracy: 0.4167\n",
            "Epoch 23/50\n",
            "8/8 [==============================] - 0s 46ms/step - loss: 0.0592 - accuracy: 0.9792 - val_loss: 1.0118 - val_accuracy: 0.5000\n",
            "Epoch 24/50\n",
            "8/8 [==============================] - 0s 47ms/step - loss: 0.0720 - accuracy: 0.9708 - val_loss: 0.9642 - val_accuracy: 0.5833\n",
            "Epoch 25/50\n",
            "8/8 [==============================] - 0s 47ms/step - loss: 0.0310 - accuracy: 0.9875 - val_loss: 0.9482 - val_accuracy: 0.5667\n",
            "Epoch 26/50\n",
            "8/8 [==============================] - 0s 47ms/step - loss: 0.0782 - accuracy: 0.9750 - val_loss: 0.9380 - val_accuracy: 0.5333\n",
            "Epoch 27/50\n",
            "8/8 [==============================] - 0s 47ms/step - loss: 0.0405 - accuracy: 0.9833 - val_loss: 0.8846 - val_accuracy: 0.5667\n",
            "Epoch 28/50\n",
            "8/8 [==============================] - 0s 46ms/step - loss: 0.0664 - accuracy: 0.9833 - val_loss: 0.8744 - val_accuracy: 0.5833\n",
            "Epoch 29/50\n",
            "8/8 [==============================] - 0s 47ms/step - loss: 0.1071 - accuracy: 0.9708 - val_loss: 0.8243 - val_accuracy: 0.6833\n",
            "Epoch 30/50\n",
            "8/8 [==============================] - 0s 46ms/step - loss: 0.1841 - accuracy: 0.9375 - val_loss: 0.7728 - val_accuracy: 0.6000\n",
            "Epoch 31/50\n",
            "8/8 [==============================] - 0s 48ms/step - loss: 0.2328 - accuracy: 0.9500 - val_loss: 0.6503 - val_accuracy: 0.7833\n",
            "Epoch 32/50\n",
            "8/8 [==============================] - 0s 46ms/step - loss: 0.0529 - accuracy: 0.9792 - val_loss: 0.6723 - val_accuracy: 0.6667\n",
            "Epoch 33/50\n",
            "8/8 [==============================] - 0s 46ms/step - loss: 0.0743 - accuracy: 0.9792 - val_loss: 0.6393 - val_accuracy: 0.6667\n",
            "Epoch 34/50\n",
            "8/8 [==============================] - 0s 48ms/step - loss: 0.0822 - accuracy: 0.9625 - val_loss: 0.6215 - val_accuracy: 0.6500\n",
            "Epoch 35/50\n",
            "8/8 [==============================] - 0s 48ms/step - loss: 0.2331 - accuracy: 0.9208 - val_loss: 0.5599 - val_accuracy: 0.7500\n",
            "Epoch 36/50\n",
            "8/8 [==============================] - 0s 47ms/step - loss: 0.0577 - accuracy: 0.9792 - val_loss: 0.4843 - val_accuracy: 0.7667\n",
            "Epoch 37/50\n",
            "8/8 [==============================] - 0s 47ms/step - loss: 0.1131 - accuracy: 0.9542 - val_loss: 0.4364 - val_accuracy: 0.8167\n",
            "Epoch 38/50\n",
            "8/8 [==============================] - 0s 45ms/step - loss: 0.0384 - accuracy: 0.9833 - val_loss: 0.3525 - val_accuracy: 0.9667\n",
            "Epoch 39/50\n",
            "8/8 [==============================] - 0s 46ms/step - loss: 0.0246 - accuracy: 0.9917 - val_loss: 0.3954 - val_accuracy: 0.7833\n",
            "Epoch 40/50\n",
            "8/8 [==============================] - 0s 46ms/step - loss: 0.0405 - accuracy: 0.9917 - val_loss: 0.3221 - val_accuracy: 0.9000\n",
            "Epoch 41/50\n",
            "8/8 [==============================] - 0s 46ms/step - loss: 0.0496 - accuracy: 0.9792 - val_loss: 0.4506 - val_accuracy: 0.7500\n",
            "Epoch 42/50\n",
            "8/8 [==============================] - 0s 47ms/step - loss: 0.0372 - accuracy: 0.9833 - val_loss: 0.3432 - val_accuracy: 0.8333\n",
            "Epoch 43/50\n",
            "8/8 [==============================] - 0s 46ms/step - loss: 0.0477 - accuracy: 0.9833 - val_loss: 0.3410 - val_accuracy: 0.8333\n",
            "Epoch 44/50\n",
            "8/8 [==============================] - 0s 47ms/step - loss: 0.1899 - accuracy: 0.9500 - val_loss: 0.3027 - val_accuracy: 0.9167\n",
            "Epoch 45/50\n",
            "8/8 [==============================] - 0s 47ms/step - loss: 0.0415 - accuracy: 0.9833 - val_loss: 0.2973 - val_accuracy: 0.8667\n",
            "Epoch 46/50\n",
            "8/8 [==============================] - 0s 46ms/step - loss: 0.0170 - accuracy: 0.9958 - val_loss: 0.2902 - val_accuracy: 0.9167\n",
            "Epoch 47/50\n",
            "8/8 [==============================] - 0s 46ms/step - loss: 0.1137 - accuracy: 0.9625 - val_loss: 0.2453 - val_accuracy: 0.9167\n",
            "Epoch 48/50\n",
            "8/8 [==============================] - 0s 48ms/step - loss: 0.0248 - accuracy: 0.9875 - val_loss: 0.2228 - val_accuracy: 0.9167\n",
            "Epoch 49/50\n",
            "8/8 [==============================] - 0s 47ms/step - loss: 0.0242 - accuracy: 0.9875 - val_loss: 0.2237 - val_accuracy: 0.9000\n",
            "Epoch 50/50\n",
            "8/8 [==============================] - 0s 47ms/step - loss: 0.0193 - accuracy: 0.9958 - val_loss: 0.2703 - val_accuracy: 0.8667\n"
          ]
        }
      ]
    },
    {
      "cell_type": "code",
      "source": [
        "score = model.evaluate(test_generator)\n",
        "print('Test loss:', score[0])\n",
        "print('Test accuracy:', score[1])"
      ],
      "metadata": {
        "id": "1RYJ9yRFlEWw",
        "colab": {
          "base_uri": "https://localhost:8080/"
        },
        "outputId": "a500385e-cc6f-4833-be31-4400aa99cb19"
      },
      "execution_count": null,
      "outputs": [
        {
          "output_type": "stream",
          "name": "stdout",
          "text": [
            "2/2 [==============================] - 0s 17ms/step - loss: 0.2703 - accuracy: 0.8667\n",
            "Test loss: 0.2702973783016205\n",
            "Test accuracy: 0.8666666746139526\n"
          ]
        }
      ]
    },
    {
      "cell_type": "code",
      "source": [
        "#Model Analysis\n",
        "\n",
        "#Graphing\n",
        "from sklearn.metrics import ConfusionMatrixDisplay\n",
        "from sklearn.metrics import confusion_matrix\n",
        "import matplotlib.pyplot as plt\n",
        "import numpy as np\n",
        "\n",
        "\n",
        "y_pred = model.predict(X_test)\n",
        "labels = [\"Culex\", \"Anopheles\", \"Aedes\"]\n",
        "\n",
        "y_pred = np.argmax(y_pred, axis=1)\n",
        "y_test = np.argmax(y_test, axis=1)\n",
        "cm = confusion_matrix(y_test, y_pred)\n",
        "\n",
        "disp = ConfusionMatrixDisplay(confusion_matrix=cm, display_labels=labels)\n",
        "\n",
        "disp.plot(cmap=plt.cm.Blues)\n",
        "plt.show()\n",
        "\n",
        "#Use model for test value\n",
        "img = aedes[1700] #Result should be aedes\n",
        "img = cv2.imread(main_dir + '/Aedes Images' + '/' + img)\n",
        "img = cv2.cvtColor(img, cv2.COLOR_BGR2RGB)\n",
        "img_array = Image.fromarray(img, 'RGB')\n",
        "# resize image to 227x227 which is the required input size of the Alexnet model\n",
        "img_rs = img_array.resize((32,32))\n",
        "img = np.array(img_rs)\n",
        "\n",
        "# convert the image to array\n",
        "img = np.expand_dims(img, axis=0)\n",
        "result = model.predict(img)\n",
        "result = np.argmax(result, axis=1)\n",
        "\n",
        "if (result == 1):\n",
        "  print('Projected Result: Culex')\n",
        "\n",
        "if(result == 2):\n",
        "  print('Projected Result: Anopheles')\n",
        "\n",
        "if(result ==  3):\n",
        "  print('Projected Result: Aedes')\n",
        "print('Actual Result: Aedes')\n",
        "\n",
        "#Show an image\n",
        "plt.imshow(img_rs, cmap=plt.cm.gray_r)"
      ],
      "metadata": {
        "id": "3xzS6JsytH1c",
        "colab": {
          "base_uri": "https://localhost:8080/"
        },
        "outputId": "2298f28b-5a56-4f91-c756-7b540bf7590a"
      },
      "execution_count": null,
      "outputs": [
        {
          "output_type": "display_data",
          "data": {
            "text/plain": [
              "<Figure size 432x288 with 2 Axes>"
            ],
            "image/png": "[encoded data removed]"
          },
          "metadata": {
            "needs_background": "light"
          }
        },
        {
          "output_type": "stream",
          "name": "stdout",
          "text": [
            "Projected Result: Aedes\n",
            "Actual Result: Aedes\n"
          ]
        },
        {
          "output_type": "execute_result",
          "data": {
            "text/plain": [
              "<matplotlib.image.AxesImage at 0x7f5c20652ed0>"
            ]
          },
          "metadata": {},
          "execution_count": 32
        },
        {
          "output_type": "display_data",
          "data": {
            "text/plain": [
              "<Figure size 432x288 with 1 Axes>"
            ],
            "image/png": "[encoded data removed]"
          },
          "metadata": {
            "needs_background": "light"
          }
        }
      ]
    }
  ],
  "metadata": {
    "colab": {
      "collapsed_sections": [
        "EZdHwKffcjkh",
        "WIkfbY50dddO",
        "47wyScsTMXbz"
      ],
      "provenance": [],
      "machine_shape": "hm"
    },
    "gpuClass": "standard",
    "kernelspec": {
      "display_name": "Python 3",
      "name": "python3"
    },
    "language_info": {
      "name": "python"
    },
    "accelerator": "GPU"
  },
  "nbformat": 4,
  "nbformat_minor": 0
}